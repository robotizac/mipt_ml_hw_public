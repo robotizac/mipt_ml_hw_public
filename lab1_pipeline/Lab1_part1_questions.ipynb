{
 "cells": [
  {
   "cell_type": "markdown",
   "metadata": {},
   "source": [
    "*Credits: materials from this notebook belong to YSDA [Practical DL](https://github.com/yandexdataschool/Practical_DL) course. Special thanks for making them available online.*"
   ]
  },
  {
   "cell_type": "markdown",
   "metadata": {},
   "source": [
    "# Lab assignment №1, part 1\n",
    "\n",
    "This lab assignment consists of several parts. You are supposed to make some transformations, train some models, estimate the quality of the models and explain your results.\n",
    "\n",
    "Several comments:\n",
    "* Don't hesitate to ask questions, it's a good practice.\n",
    "* No private/public sharing, please. The copied assignments will be graded with 0 points.\n",
    "* Blocks of this lab will be graded separately."
   ]
  },
  {
   "cell_type": "markdown",
   "metadata": {},
   "source": [
    "## 1. Matrix differentiation"
   ]
  },
  {
   "cell_type": "markdown",
   "metadata": {},
   "source": [
    "Since it easy to google every task please please please try to undestand what's going on. The \"just answer\" thing will be not counted, make sure to present derivation of your solution. It is absolutely OK if you found an answer on web then just exercise in $\\LaTeX$ copying it into here."
   ]
  },
  {
   "cell_type": "markdown",
   "metadata": {},
   "source": [
    "Useful links: \n",
    "[1](http://www.machinelearning.ru/wiki/images/2/2a/Matrix-Gauss.pdf)\n",
    "[2](http://www.atmos.washington.edu/~dennis/MatrixCalculus.pdf)"
   ]
  },
  {
   "cell_type": "markdown",
   "metadata": {},
   "source": [
    "## ex. 1"
   ]
  },
  {
   "cell_type": "markdown",
   "metadata": {},
   "source": [
    "$$  \n",
    "y = x^Tx,  \\quad x \\in \\mathbb{R}^N \n",
    "$$"
   ]
  },
  {
   "cell_type": "markdown",
   "metadata": {},
   "source": [
    "$$\n",
    "\\frac{dy}{dx} = \n",
    "$$ "
   ]
  },
  {
   "cell_type": "markdown",
   "metadata": {
    "collapsed": true,
    "jupyter": {
     "outputs_hidden": true
    }
   },
   "source": [
    "$$\n",
    "\\frac{dy}{dx} = \\frac{\\sum\\limits_{i=1}^{n} x_i^2 }{dx} = 2x\n",
    "$$ "
   ]
  },
  {
   "cell_type": "markdown",
   "metadata": {},
   "source": [
    "## ex. 2"
   ]
  },
  {
   "cell_type": "markdown",
   "metadata": {},
   "source": [
    "$$ y = tr(AB) \\quad A,B \\in \\mathbb{R}^{N \\times N} $$ "
   ]
  },
  {
   "cell_type": "markdown",
   "metadata": {},
   "source": [
    "$$\n",
    "\\frac{dy}{dA} =\n",
    "$$"
   ]
  },
  {
   "cell_type": "markdown",
   "metadata": {
    "collapsed": true,
    "jupyter": {
     "outputs_hidden": true
    }
   },
   "source": [
    "$$\n",
    "\\frac{dy}{dA} = \\frac{\\sum\\limits_{i=1}^{n} \\left(AB\\right)_{i, i}}{dA} = \\frac{\\sum\\limits_{i=1}^{n}\\sum\\limits_{j=1}^{n} A_{i, j} B_{j, i}}{dA} = B^T\n",
    "$$"
   ]
  },
  {
   "cell_type": "markdown",
   "metadata": {},
   "source": [
    "## ex. 3"
   ]
  },
  {
   "cell_type": "markdown",
   "metadata": {},
   "source": [
    "$$  \n",
    "y = x^TAc , \\quad A\\in \\mathbb{R}^{N \\times N}, x\\in \\mathbb{R}^{N}, c\\in \\mathbb{R}^{N} \n",
    "$$"
   ]
  },
  {
   "cell_type": "markdown",
   "metadata": {},
   "source": [
    "$$\n",
    "\\frac{dy}{dx} =\n",
    "$$"
   ]
  },
  {
   "cell_type": "markdown",
   "metadata": {},
   "source": [
    "$$\n",
    "\\frac{dy}{dA} =\n",
    "$$ "
   ]
  },
  {
   "cell_type": "markdown",
   "metadata": {},
   "source": [
    "Hint for the latter (one of the ways): use *ex. 2* result and the fact \n",
    "$$\n",
    "tr(ABC) = tr (CAB)\n",
    "$$"
   ]
  },
  {
   "cell_type": "markdown",
   "metadata": {
    "collapsed": true,
    "jupyter": {
     "outputs_hidden": true
    }
   },
   "source": [
    "$$\n",
    "\\frac{dy}{dx} = \\frac{\\sum\\limits_{i=1}^{n} x_i \\left(Ac\\right)_i}{dx} = Ac\n",
    "$$\n",
    "\n",
    "$$\n",
    "\\frac{dy}{dA} = \\frac{\\sum\\limits_{i=1}^{n} \\left(x_i \\sum\\limits_{j=1}^{n} A_{i, j} c_j \\right)}{dA} = \\left(x_i c_j \\right)_{i, j} = x c^T\n",
    "$$"
   ]
  },
  {
   "cell_type": "markdown",
   "metadata": {},
   "source": [
    "## ex. 4"
   ]
  },
  {
   "cell_type": "markdown",
   "metadata": {},
   "source": [
    "Classic matrix factorization example. Given matrix $X$ you need to find $A$, $S$ to approximate $X$. This can be done by simple gradient descent iteratively alternating $A$ and $S$ updates.\n",
    "$$\n",
    "J = || X - AS ||_F^2  , \\quad A\\in \\mathbb{R}^{N \\times R} , \\quad S\\in \\mathbb{R}^{R \\times M}\n",
    "$$\n",
    "$$\n",
    "\\frac{dJ}{dS} = ? \n",
    "$$\n",
    "\n",
    "You may use one of the following approaches:"
   ]
  },
  {
   "cell_type": "markdown",
   "metadata": {},
   "source": [
    "#### First approach\n",
    "Using ex.2 and the fact:\n",
    "$$\n",
    "|| X ||_F^2 = tr(XX^T) \n",
    "$$ \n",
    "it is easy to derive gradients (you can find it in one of the refs). "
   ]
  },
  {
   "cell_type": "markdown",
   "metadata": {},
   "source": [
    "#### Second approach\n",
    "You can use *slightly different techniques* if they suits you. Take a look at this derivation:\n",
    "<img src=\"grad.png\">\n",
    "(excerpt from [Handbook of blind source separation, Jutten, page 517](https://books.google.ru/books?id=PTbj03bYH6kC&printsec=frontcover&dq=Handbook+of+Blind+Source+Separation&hl=en&sa=X&ved=0ahUKEwi-q_apiJDLAhULvXIKHVXJDWcQ6AEIHDAA#v=onepage&q=Handbook%20of%20Blind%20Source%20Separation&f=false), open for better picture)."
   ]
  },
  {
   "cell_type": "markdown",
   "metadata": {},
   "source": [
    "#### Third approach\n",
    "And finally we can use chain rule! \n",
    "let $ F = AS $ \n",
    "\n",
    "**Find**\n",
    "$$\n",
    "\\frac{dJ}{dF} =  \n",
    "$$ \n",
    "and \n",
    "$$\n",
    "\\frac{dF}{dS} =  \n",
    "$$ \n",
    "(the shape should be $ NM \\times RM )$.\n",
    "\n",
    "Now it is easy do get desired gradients:\n",
    "$$\n",
    "\\frac{dJ}{dS} =  \n",
    "$$ "
   ]
  },
  {
   "cell_type": "markdown",
   "metadata": {},
   "source": [
    "$$\n",
    "J = || X - AS ||_F^2  , \\quad A\\in \\mathbb{R}^{N \\times R} , \\quad S\\in \\mathbb{R}^{R \\times M}\n",
    "\\\\\n",
    "|| X ||_F^2 = tr(XX^T) \n",
    "\\\\\n",
    "J = || X - AS ||_F^2 = tr((X - AS)(X - AS)^\\top) = tr(XX^\\top-ASX^\\top-XS^\\top A^\\top+ASS^\\top A^\\top)\n",
    "\\\\\n",
    "J = tr(XX^\\top)-tr(ASX^\\top)-tr(XS^\\top A^\\top)+tr(ASS^\\top A^\\top)\n",
    "$$\n",
    "\n",
    "Now let's find the derivative.\n",
    "\n",
    "$$\n",
    "\\frac{dJ}{dS}=-\\frac{d}{dS}tr(ASX^\\top)-\\frac{d}{dS}tr(XS^\\top A^\\top)+\\frac{d}{dS}tr(ASS^\\top A^\\top)\n",
    "\\\\\n",
    "$$\n",
    "$$\n",
    "\\frac{d}{dS}tr(ASX^\\top) = A^\\top X\n",
    "\\\\\n",
    "$$\n",
    "$$\n",
    "\\frac{d}{dS}tr(XS^\\top A^\\top) = A^\\top X\n",
    "\\\\\n",
    "$$\n",
    "$$\n",
    "\\frac{d}{dS}tr(ASS^\\top A^\\top) = 2A^\\top AS\n",
    "\\\\\n",
    "$$\n",
    "$$\n",
    "\\frac{dJ}{dS}=-A^\\top X-A^\\top X+2A^\\top AS = 2A^\\top (AS-X)\n",
    "$$"
   ]
  },
  {
   "cell_type": "markdown",
   "metadata": {
    "collapsed": true,
    "jupyter": {
     "outputs_hidden": true
    }
   },
   "source": [
    "## 2. kNN questions\n",
    "Here come the questions from the assignment0_01. Please, refer to the assignment0_01 to get the context of the questions."
   ]
  },
  {
   "cell_type": "markdown",
   "metadata": {},
   "source": [
    "### Question 1\n",
    "\n",
    "Notice the structured patterns in the distance matrix, where some rows or columns are visible brighter. (Note that with the default color scheme black indicates low distances while white indicates high distances.)\n",
    "\n",
    "- What in the data is the cause behind the distinctly bright rows?\n",
    "- What causes the columns?\n",
    "\n",
    "*Your Answer:*\n",
    "\n",
    "As we compute distance between all 64 attributes of each test and train samples and white indicates high distances\n",
    "1. bright rows mean test samples with attributes that are not very much alike all (if the whole row is white) train samples.\n",
    "2. means the same but in reverse - train samples that are very different from all test samples.\n",
    "\n",
    "\n"
   ]
  },
  {
   "cell_type": "markdown",
   "metadata": {},
   "source": [
    "### Question 2\n",
    "\n",
    "We can also use other distance metrics such as L1 distance.\n",
    "For pixel values $p_{ij}^{(k)}$ at location $(i,j)$ of some image $I_k$, \n",
    "\n",
    "the mean $\\mu$ across all pixels over all images is $$\\mu=\\frac{1}{nhw}\\sum_{k=1}^n\\sum_{i=1}^{h}\\sum_{j=1}^{w}p_{ij}^{(k)}$$\n",
    "And the pixel-wise mean $\\mu_{ij}$ across all images is \n",
    "$$\\mu_{ij}=\\frac{1}{n}\\sum_{k=1}^np_{ij}^{(k)}.$$\n",
    "The general standard deviation $\\sigma$ and pixel-wise standard deviation $\\sigma_{ij}$ is defined similarly.\n",
    "\n",
    "Which of the following preprocessing steps will not change the performance of a Nearest Neighbor classifier that uses L1 distance? Select all that apply.\n",
    "1. Subtracting the mean $\\mu$ ($\\tilde{p}_{ij}^{(k)}=p_{ij}^{(k)}-\\mu$.)\n",
    "2. Subtracting the per pixel mean $\\mu_{ij}$  ($\\tilde{p}_{ij}^{(k)}=p_{ij}^{(k)}-\\mu_{ij}$.)\n",
    "3. Subtracting the mean $\\mu$ and dividing by the standard deviation $\\sigma$.\n",
    "4. Subtracting the pixel-wise mean $\\mu_{ij}$ and dividing by the pixel-wise standard deviation $\\sigma_{ij}$.\n",
    "5. Rotating the coordinate axes of the data.\n",
    "\n",
    "*Your Answer:* 1,2,3,5\n",
    "\n",
    "\n",
    "*Your Explanation:*\n",
    "\n",
    "1. Assume A and B are images we compute L1 distance as |A - B| = |a1 - b1| + |a2 - b2|\n",
    "\n",
    "    thus is we subtract mean from every pixel we get |(a1 - m) - (b1 - m)| + ... = |a1 - m - b1 + m| + ...\n",
    "    \n",
    "    so there is no change in distance and thus in performance\n",
    "\n",
    "2. The same as above with m replaced by pixel-wise mean\n",
    "\n",
    "3. It's just sheer data normalization that does not change the distribution of data.\n",
    "\n",
    "4. Let's take 3 vectors  a = |1, 2|, b = |0, 1| and c = |2, 1| with $\\mu_{ij}$ = 1, 2 and $\\sigma_{ij}$ = 1, 2\n",
    "\n",
    "L1 for (a, b) = 2, for (a, c) = 2, for (b, c) = 2\n",
    "\n",
    "|(a1 - 1) - (b1 - 2)| + |(a2 - 1)/2 - (b2 - 2)/2| = |0 + 2| + |1/2 + 1/2| = 3\n",
    "\n",
    "|(a1 - 1) - (c1 - 2)| + |(a2 - 1)/2 - (c2 - 2)/2| = 1\n",
    "\n",
    "|(b1 - 1) - (c1 - 2)| + |(b2 - 1)/2 - (c2 - 2)/2| = 1.5\n",
    "\n",
    "\n",
    "Thus it will change the classification results\n",
    "\n",
    "5. Rotating the coordinate axes of the whole data does not change the classification results as it does not change the relations for data samples.\n",
    "\n"
   ]
  },
  {
   "cell_type": "markdown",
   "metadata": {},
   "source": [
    "## Question 3\n",
    "\n",
    "Which of the following statements about $k$-Nearest Neighbor ($k$-NN) are true in a classification setting, and for all $k$? Select all that apply.\n",
    "1. The decision boundary (hyperplane between classes in feature space) of the k-NN classifier is linear.\n",
    "2. The training error of a 1-NN will always be lower than that of 5-NN.\n",
    "3. The test error of a 1-NN will always be lower than that of a 5-NN.\n",
    "4. The time needed to classify a test example with the k-NN classifier grows with the size of the training set.\n",
    "5. None of the above.\n",
    "\n",
    "*Your Answer:* 4\n",
    "\n",
    "\n",
    "*Your Explanation:*\n",
    "1. This is not true because k-NN classifier utilises distance functions that are nonlinear\n",
    "2. This is true in most cases due to the fact that training error of a 1-NN will always be 0, but it really depends on the data. Some data might have 0 training error of 5-NN as well.\n",
    "3. That depends on the data as well.\n",
    "4. That one is correct as more data leads to more computation for the distances.\n",
    "\n"
   ]
  },
  {
   "cell_type": "markdown",
   "metadata": {},
   "source": []
  }
 ],
 "metadata": {
  "kernelspec": {
   "display_name": "mipt",
   "language": "python",
   "name": "mipt"
  },
  "language_info": {
   "codemirror_mode": {
    "name": "ipython",
    "version": 3
   },
   "file_extension": ".py",
   "mimetype": "text/x-python",
   "name": "python",
   "nbconvert_exporter": "python",
   "pygments_lexer": "ipython3",
   "version": "3.9.5"
  }
 },
 "nbformat": 4,
 "nbformat_minor": 4
}
