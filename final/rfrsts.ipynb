{
 "cells": [
  {
   "cell_type": "code",
   "execution_count": 1,
   "metadata": {},
   "outputs": [],
   "source": [
    "from sklearn.datasets import load_diabetes\n",
    "from sklearn.ensemble import RandomForestRegressor\n",
    "from sklearn.model_selection import train_test_split\n",
    "diabetes = load_diabetes(as_frame = True)\n",
    "\n",
    "X = diabetes['data']\n",
    "y = diabetes['target']\n",
    "# control randomness when splitting\n",
    "X_train,X_test, y_train, y_test = train_test_split(X, y,test_size = 0.1, random_state = 42)\n",
    "\n",
    "for i in range(100):\n",
    "    # control randomness at initialisation\n",
    "    rfr_ONE = RandomForestRegressor(random_state = 42)\n",
    "    rfr_ONE.fit(X_train, y_train)\n",
    "    y_pred_ONE = rfr_ONE.predict(X_test)\n",
    "\n",
    "    # control randomness at initialisation\n",
    "    rfr_TWO = RandomForestRegressor(random_state = 42)\n",
    "    rfr_TWO.fit(X_train, y_train)\n",
    "    y_pred_TWO = rfr_TWO.predict(X_test)\n",
    "\n",
    "    assert (y_pred_ONE == y_pred_TWO).all(), \"No they don't\""
   ]
  },
  {
   "cell_type": "code",
   "execution_count": null,
   "metadata": {},
   "outputs": [],
   "source": []
  }
 ],
 "metadata": {
  "kernelspec": {
   "display_name": "mlp",
   "language": "python",
   "name": "python3"
  },
  "language_info": {
   "codemirror_mode": {
    "name": "ipython",
    "version": 3
   },
   "file_extension": ".py",
   "mimetype": "text/x-python",
   "name": "python",
   "nbconvert_exporter": "python",
   "pygments_lexer": "ipython3",
   "version": "3.9.16"
  }
 },
 "nbformat": 4,
 "nbformat_minor": 2
}
